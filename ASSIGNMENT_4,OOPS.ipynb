{
  "nbformat": 4,
  "nbformat_minor": 0,
  "metadata": {
    "colab": {
      "provenance": []
    },
    "kernelspec": {
      "name": "python3",
      "display_name": "Python 3"
    },
    "language_info": {
      "name": "python"
    }
  },
  "cells": [
    {
      "cell_type": "markdown",
      "source": [
        "#OOPS\n"
      ],
      "metadata": {
        "id": "zDJb-BtUTOfS"
      }
    },
    {
      "cell_type": "markdown",
      "source": [
        "Q1.What is Object-Oriented Programming (OOP)?\n",
        "- **Object-Oriented Programming (OOP) is a programming paradigm** (style of writing programs) that organizes code around objects instead of just functions and logic.\n",
        "\n",
        "- An object is a collection of data (attributes/properties) and behaviors (methods/functions) that represent a real-world entity.\n",
        "\n",
        "**EXAMPLE**:"
      ],
      "metadata": {
        "id": "tY7RQBZMTXom"
      }
    },
    {
      "cell_type": "code",
      "source": [
        "# Defining a Class\n",
        "class Car:\n",
        "    def __init__(self, brand, color):\n",
        "        self.brand = brand\n",
        "        self.color = color\n",
        "\n",
        "    def drive(self):\n",
        "        return f\"The {self.color} {self.brand} is driving.\"\n",
        "\n",
        "# Creating Objects (Instances)\n",
        "car1 = Car(\"Toyota\", \"Red\")\n",
        "car2 = Car(\"BMW\", \"Black\")\n",
        "\n",
        "print(car1.drive())\n",
        "print(car2.drive())\n"
      ],
      "metadata": {
        "colab": {
          "base_uri": "https://localhost:8080/"
        },
        "id": "MISTf_FnUZJo",
        "outputId": "2d5cf405-32c8-4ad1-87e5-ca7e00a3376f"
      },
      "execution_count": null,
      "outputs": [
        {
          "output_type": "stream",
          "name": "stdout",
          "text": [
            "The Red Toyota is driving.\n",
            "The Black BMW is driving.\n"
          ]
        }
      ]
    },
    {
      "cell_type": "markdown",
      "source": [
        "Q2.What is a class in OOP?\n",
        "- In **Object-Oriented Programming (OOP)**, a class is like a blueprint or template for creating objects.\n",
        "\n",
        "**It defines**:\n",
        "\n",
        "**Attributes** (data/properties) → what the object has.\n",
        "\n",
        "**Methods** (functions/behaviors) → what the object can do.\n",
        "\n",
        "**EXAMPLE**:\n"
      ],
      "metadata": {
        "id": "-b7HWvr5Uw4A"
      }
    },
    {
      "cell_type": "code",
      "source": [
        "# Defining a Class\n",
        "class Car:\n",
        "    def __init__(self, brand, color):\n",
        "        self.brand = brand      # Attribute\n",
        "        self.color = color      # Attribute\n",
        "\n",
        "    def drive(self):            # Method\n",
        "        print(f\"The {self.color} {self.brand} is driving.\")\n",
        "\n",
        "# Creating Objects (Instances of the class)\n",
        "car1 = Car(\"Toyota\", \"Red\")\n",
        "car2 = Car(\"BMW\", \"Black\")\n",
        "\n",
        "# Using methods\n",
        "car1.drive()\n",
        "car2.drive()\n"
      ],
      "metadata": {
        "colab": {
          "base_uri": "https://localhost:8080/"
        },
        "id": "tZOD-feqVUaz",
        "outputId": "63df3c92-575f-4c91-a39e-5697ee970be0"
      },
      "execution_count": null,
      "outputs": [
        {
          "output_type": "stream",
          "name": "stdout",
          "text": [
            "The Red Toyota is driving.\n",
            "The Black BMW is driving.\n"
          ]
        }
      ]
    },
    {
      "cell_type": "markdown",
      "source": [
        "Q3.What is an object in OOP?\n",
        "- In Object-Oriented Programming (OOP), an object is an instance of a class.\n",
        "\n",
        "- If a class is the blueprint, then an object is the real thing built from that blueprint.\n",
        "\n",
        "**Key Points about Objects:**\n",
        "\n",
        "1.**Instance of a class** – Created using the class definition.\n",
        "\n",
        "2.**Has state (attributes/properties**) – Data stored in the object.\n",
        "\n",
        "3.**Has behavior (methods/functions)** – Actions the object can perform.\n",
        "\n",
        "4.**Unique identity** – Each object is stored separately in memory.\n",
        "\n",
        "**EXAMPLE**:\n",
        "\n"
      ],
      "metadata": {
        "id": "4sl9ba_MVXaf"
      }
    },
    {
      "cell_type": "code",
      "source": [
        "# Class definition\n",
        "class Car:\n",
        "    def __init__(self, brand, color):\n",
        "        self.brand = brand\n",
        "        self.color = color\n",
        "\n",
        "    def drive(self):\n",
        "        print(f\"The {self.color} {self.brand} is driving.\")\n",
        "\n",
        "# Creating objects (instances of the class)\n",
        "car1 = Car(\"Toyota\", \"Red\")   # Object 1\n",
        "car2 = Car(\"BMW\", \"Black\")    # Object 2\n",
        "\n",
        "# Each object has its own data\n",
        "print(car1.brand)   # Toyota\n",
        "print(car2.brand)   # BMW\n",
        "\n",
        "# Objects can use methods\n",
        "car1.drive()\n",
        "car2.drive()\n"
      ],
      "metadata": {
        "colab": {
          "base_uri": "https://localhost:8080/"
        },
        "id": "A3xPEK17WR6f",
        "outputId": "a7ac8386-3315-4d65-ad30-9ff3d3d5e999"
      },
      "execution_count": null,
      "outputs": [
        {
          "output_type": "stream",
          "name": "stdout",
          "text": [
            "Toyota\n",
            "BMW\n",
            "The Red Toyota is driving.\n",
            "The Black BMW is driving.\n"
          ]
        }
      ]
    },
    {
      "cell_type": "markdown",
      "source": [
        "Q4.What is the difference between abstraction and encapsulation?\n",
        "| Feature                 | **Abstraction**                                                                                                        | **Encapsulation**                                                                                                               |\n",
        "| ----------------------- | ---------------------------------------------------------------------------------------------------------------------- | ------------------------------------------------------------------------------------------------------------------------------- |\n",
        "| **Definition**          | Hiding *implementation details* and showing only the *essential features*.                                             | Wrapping *data (variables)* and *methods (functions)* into a single unit (class).                                               |\n",
        "| **Focus**               | Focuses on **what** an object does.                                                                                    | Focuses on **how** the data and methods are bound together.                                                                     |\n",
        "| **Purpose**             | To **hide complexity** from the user and expose only necessary parts.                                                  | To **protect data** from unauthorized access/modification.                                                                      |\n",
        "| **Implementation**      | Achieved using **abstract classes** and **interfaces** (in Java, C++), or by defining methods without revealing logic. | Achieved by making variables **private/protected** and providing **public getter/setter methods**.                              |\n",
        "| **Example (Real life)** | When you drive a car, you just use the steering wheel and pedals (you don’t need to know how the engine works).        | In a car, the engine and transmission are hidden inside a unit; you can only access them using defined controls (encapsulated). |\n",
        "| **Keyword Association** | *\"What to do\"*                                                                                                         | *\"How to do & protect data\"*                                                                                                    |\n",
        "\n",
        "**EXAMPLE**:\n"
      ],
      "metadata": {
        "id": "B37htH5KWV5r"
      }
    },
    {
      "cell_type": "code",
      "source": [
        "from abc import ABC, abstractmethod\n",
        "\n",
        "# Abstract Class\n",
        "class Vehicle(ABC):\n",
        "    @abstractmethod\n",
        "    def start(self):\n",
        "        pass\n",
        "\n",
        "class Car(Vehicle):\n",
        "    def start(self):\n",
        "        print(\"Car is starting with a key...\")\n",
        "\n",
        "class Bike(Vehicle):\n",
        "    def start(self):\n",
        "        print(\"Bike is starting with a self-start button...\")\n",
        "\n",
        "# User doesn’t care HOW it starts, only that it can start\n",
        "v1 = Car()\n",
        "v2 = Bike()\n",
        "v1.start()\n",
        "v2.start()\n"
      ],
      "metadata": {
        "colab": {
          "base_uri": "https://localhost:8080/"
        },
        "id": "tZp__moWWuOl",
        "outputId": "56d4f1bc-b299-4f61-b8f8-b944ab27ef9e"
      },
      "execution_count": null,
      "outputs": [
        {
          "output_type": "stream",
          "name": "stdout",
          "text": [
            "Car is starting with a key...\n",
            "Bike is starting with a self-start button...\n"
          ]
        }
      ]
    },
    {
      "cell_type": "markdown",
      "source": [
        "Q5.What are dunder methods in Python?\n",
        "- In Python, dunder methods (short for “double underscore” methods) are special built-in methods that start and end with two underscores:\n",
        "\n",
        "**Example**: __init__, __str__, __len__, __add__, etc.\n",
        "\n",
        "They are also called magic methods or special methods.\n",
        "\n",
        "**Purpose of Dunder Methods**:\n",
        "- They let you customize the behavior of your objects for built-in Python operations.\n",
        "\n",
        "**For example**:\n",
        "\n",
        "When you use len(obj) → Python looks for obj.__len__()\n",
        "\n",
        "When you use print(obj) → Python calls obj.__str__()\n",
        "\n",
        "When you do obj1 + obj2 → Python calls obj1.__add__(obj2)\n",
        "\n",
        "**EXAMPLE**:\n"
      ],
      "metadata": {
        "id": "G5TBpe6yWxWl"
      }
    },
    {
      "cell_type": "code",
      "source": [
        "class Car:\n",
        "    def __init__(self, brand, color):   # constructor\n",
        "        self.brand = brand\n",
        "        self.color = color\n",
        "\n",
        "    def __str__(self):   # string representation\n",
        "        return f\"{self.color} {self.brand}\"\n",
        "\n",
        "car1 = Car(\"Toyota\", \"Red\")\n",
        "print(car1)   # calls __str__\n"
      ],
      "metadata": {
        "colab": {
          "base_uri": "https://localhost:8080/"
        },
        "id": "hNIFAtDAXdif",
        "outputId": "d45b2c55-4a03-45b9-b180-6a953714702c"
      },
      "execution_count": null,
      "outputs": [
        {
          "output_type": "stream",
          "name": "stdout",
          "text": [
            "Red Toyota\n"
          ]
        }
      ]
    },
    {
      "cell_type": "markdown",
      "source": [
        "Q6.Explain the concept of inheritance in OOP?\n",
        "\n",
        "**Inheritance in OOP**:\n",
        "\n",
        "- Inheritance is a concept in Object-Oriented Programming (OOP) where one class (child/derived class) can use the properties and methods of another class (parent/base class).\n",
        "\n",
        "It allows code reusability and extensibility.\n",
        "\n",
        "\n",
        "**Key Points**:\n",
        "\n",
        "1.**Parent/Base Class** → The class whose properties/methods are inherited.\n",
        "\n",
        "2.**Child/Derived Class** → The class that inherits from the parent.\n",
        "\n",
        "3.**A child class can**:\n",
        "-  Use the parent’s attributes/methods.\n",
        "\n",
        "- Add new attributes/methods.\n",
        "\n",
        "- Override (change) parent methods.\n",
        "\n",
        "**EXAMPLE**:\n"
      ],
      "metadata": {
        "id": "CTC111kOXf8q"
      }
    },
    {
      "cell_type": "code",
      "source": [
        "# Parent Class\n",
        "class Animal:\n",
        "    def speak(self):\n",
        "        print(\"This animal makes a sound.\")\n",
        "\n",
        "# Child Class\n",
        "class Dog(Animal):\n",
        "    def bark(self):\n",
        "        print(\"The dog barks.\")\n",
        "\n",
        "# Using Inheritance\n",
        "d = Dog()\n",
        "d.speak()   # Inherited from Animal\n",
        "d.bark()    # Defined in Dog\n"
      ],
      "metadata": {
        "colab": {
          "base_uri": "https://localhost:8080/"
        },
        "id": "RkMNSzknYfWa",
        "outputId": "b1b9ec7f-00cb-4cec-a2f2-d558a386b893"
      },
      "execution_count": null,
      "outputs": [
        {
          "output_type": "stream",
          "name": "stdout",
          "text": [
            "This animal makes a sound.\n",
            "The dog barks.\n"
          ]
        }
      ]
    },
    {
      "cell_type": "markdown",
      "source": [
        "Q7. What is polymorphism in OOP?\n",
        "\n",
        "**Polymorphism in OOP**\n",
        "- The word **Polymorphism** comes from Greek:\n",
        "\n",
        "**Poly** = many\n",
        "\n",
        "**Morph** = forms\n",
        "\n",
        "- So, **Polymorphism** means \"many forms\".\n",
        "\n",
        "- It allows the same **function, operator, or method to behave differently** depending on the context or the object that is using it.\n",
        "\n",
        "**Types of Inheritance (in Python & general OOP)**:\n",
        "- **Single Inheritance** → One parent, one child.\n",
        "\n",
        "- **Multiple Inheritance** → Child inherits from more than one parent.\n",
        "\n",
        "- **Multilevel Inheritance** → Child inherits from a parent, which itself inherits from another class.\n",
        "\n",
        "- **Hierarchical Inheritance** → Multiple children inherit from the same parent.\n",
        "\n",
        "- **Hybrid Inheritance** → Combination of the above types.\n",
        "\n",
        "**EXAMPLE**:\n"
      ],
      "metadata": {
        "id": "aUgyrutPYj3N"
      }
    },
    {
      "cell_type": "code",
      "source": [
        "# Parent Class\n",
        "class Animal:\n",
        "    def speak(self):\n",
        "        print(\"This animal makes a sound.\")\n",
        "\n",
        "# Child Class\n",
        "class Dog(Animal):\n",
        "    def bark(self):\n",
        "        print(\"The dog barks.\")\n",
        "\n",
        "# Using Inheritance\n",
        "d = Dog()\n",
        "d.speak()   # Inherited from Animal\n",
        "d.bark()    # Defined in Dog\n"
      ],
      "metadata": {
        "colab": {
          "base_uri": "https://localhost:8080/"
        },
        "id": "FM3V4N2jZxz5",
        "outputId": "c7322664-de27-424e-b075-c379a31f1f71"
      },
      "execution_count": null,
      "outputs": [
        {
          "output_type": "stream",
          "name": "stdout",
          "text": [
            "This animal makes a sound.\n",
            "The dog barks.\n"
          ]
        }
      ]
    },
    {
      "cell_type": "markdown",
      "source": [
        "Q8.How is encapsulation achieved in Python?\n",
        "\n",
        "**Encapsulation in Python**\n",
        "- **Encapsulation** = **binding data (variables) and methods (functions) together** inside a class and **restricting direct access to the data**.\n",
        "This ensures **data security** and prevents accidental modification.\n",
        "\n",
        "In Python, encapsulation is achieved using **access modifiers**:\n",
        "\n",
        "1.**Public Members**:\n",
        "\n",
        "- Accessible anywhere.\n",
        "\n",
        "- By default, all attributes and methods in Python are public.\n",
        "\n",
        "**EXAMPLE**:"
      ],
      "metadata": {
        "id": "jHlQEPrGZ2UH"
      }
    },
    {
      "cell_type": "code",
      "source": [
        "class Car:\n",
        "    def __init__(self, brand):\n",
        "        self.brand = brand   # Public attribute\n",
        "\n",
        "c = Car(\"Toyota\")\n",
        "print(c.brand)   # Accessible outside\n"
      ],
      "metadata": {
        "colab": {
          "base_uri": "https://localhost:8080/"
        },
        "id": "p2B_d6zAbFMe",
        "outputId": "8a72f107-5570-4791-ac66-9efbd0766959"
      },
      "execution_count": null,
      "outputs": [
        {
          "output_type": "stream",
          "name": "stdout",
          "text": [
            "Toyota\n"
          ]
        }
      ]
    },
    {
      "cell_type": "markdown",
      "source": [
        "2. **Protected Members (convention)**\n",
        "\n",
        "- Prefix with single underscore _.\n",
        "\n",
        "- Indicates it should not be accessed directly, but can be accessed if needed.\n",
        "\n",
        "- Used more as a convention than strict restriction.\n",
        "\n",
        "**EXAMPLE**:"
      ],
      "metadata": {
        "id": "z4fXVlZubI4W"
      }
    },
    {
      "cell_type": "code",
      "source": [
        "class Car:\n",
        "    def __init__(self, brand):\n",
        "        self._brand = brand   # Protected attribute\n",
        "\n",
        "c = Car(\"BMW\")\n",
        "print(c._brand)   # Accessible (not recommended)\n"
      ],
      "metadata": {
        "colab": {
          "base_uri": "https://localhost:8080/"
        },
        "id": "3b_6vNZbbVzK",
        "outputId": "bdb0b86c-bcb2-4707-961e-f5a040f9fef8"
      },
      "execution_count": null,
      "outputs": [
        {
          "output_type": "stream",
          "name": "stdout",
          "text": [
            "BMW\n"
          ]
        }
      ]
    },
    {
      "cell_type": "markdown",
      "source": [
        "3. **Private Members**:\n",
        "\n",
        "- Prefix with double underscore __.\n",
        "\n",
        "- Not directly accessible outside the class (name mangling is used internally).\n",
        "\n",
        "- Access only via methods (getters/setters).\n",
        "\n",
        "**EXAMPLE**:"
      ],
      "metadata": {
        "id": "-Bg0OV5LbZHH"
      }
    },
    {
      "cell_type": "code",
      "source": [
        "class BankAccount:\n",
        "    def __init__(self, balance):\n",
        "        self.__balance = balance   # Private attribute\n",
        "\n",
        "    # Getter method\n",
        "    def get_balance(self):\n",
        "        return self.__balance\n",
        "\n",
        "    # Setter method\n",
        "    def deposit(self, amount):\n",
        "        if amount > 0:\n",
        "            self.__balance += amount\n",
        "\n",
        "# Usage\n",
        "acc = BankAccount(1000)\n",
        "print(acc.get_balance())   # ✅ Safe access\n",
        "acc.deposit(500)\n",
        "print(acc.get_balance())\n"
      ],
      "metadata": {
        "colab": {
          "base_uri": "https://localhost:8080/"
        },
        "id": "IYhb93elbmJL",
        "outputId": "d1b708f5-2154-4148-faa5-ccad7462026a"
      },
      "execution_count": null,
      "outputs": [
        {
          "output_type": "stream",
          "name": "stdout",
          "text": [
            "1000\n",
            "1500\n"
          ]
        }
      ]
    },
    {
      "cell_type": "markdown",
      "source": [
        "Q9.What is a constructor in Python?\n",
        "- In Python, a constructor is a special method in a class that is automatically called when an object is created.\n",
        "It is used to initialize the attributes (variables) of the object.\n",
        "\n",
        "**Key Points about Constructor:**\n",
        "- In Python, the constructor method is always named __init__().\n",
        "\n",
        "- It runs automatically when you create a new object.\n",
        "\n",
        "- It usually sets up initial values for object attributes.\n",
        "\n",
        "- The first argument is always self → refers to the current object.\n",
        "\n",
        "**EXAMPLE**:\n"
      ],
      "metadata": {
        "id": "GTkcbZ2Fbqal"
      }
    },
    {
      "cell_type": "code",
      "source": [
        "class Car:\n",
        "    def __init__(self, brand, color):   # Constructor\n",
        "        self.brand = brand\n",
        "        self.color = color\n",
        "\n",
        "    def show(self):\n",
        "        print(f\"This car is a {self.color} {self.brand}\")\n",
        "\n",
        "# Creating objects (constructor is called automatically)\n",
        "car1 = Car(\"Toyota\", \"Red\")\n",
        "car2 = Car(\"BMW\", \"Black\")\n",
        "\n",
        "car1.show()\n",
        "car2.show()\n"
      ],
      "metadata": {
        "colab": {
          "base_uri": "https://localhost:8080/"
        },
        "id": "yivEhBhWcPWM",
        "outputId": "5b4ab897-8ef7-4b37-9277-53d4fe7109bb"
      },
      "execution_count": null,
      "outputs": [
        {
          "output_type": "stream",
          "name": "stdout",
          "text": [
            "This car is a Red Toyota\n",
            "This car is a Black BMW\n"
          ]
        }
      ]
    },
    {
      "cell_type": "markdown",
      "source": [
        "Q10.What are class and static methods in Python?\n",
        "\n",
        "**1. Instance Methods (default)**\n",
        "- He usual methods in a class (defined with def method(self, ...)).\n",
        "\n",
        "- They take self as the first parameter, meaning they operate on instance-level data.\n",
        "\n",
        "- Can access and modify object attributes and call other instance methods\n",
        "\n",
        "**EXAMPLE**:\n"
      ],
      "metadata": {
        "id": "qEZzqJglcSyP"
      }
    },
    {
      "cell_type": "code",
      "source": [
        "class Student:\n",
        "    def __init__(self, name, marks):\n",
        "        self.name = name\n",
        "        self.marks = marks\n",
        "\n",
        "    # Instance method\n",
        "    def display(self):\n",
        "        print(f\"{self.name} scored {self.marks}\")\n",
        "\n",
        "s = Student(\"Abhi\", 85)\n",
        "s.display()   # Output: Abhi scored 85\n"
      ],
      "metadata": {
        "colab": {
          "base_uri": "https://localhost:8080/"
        },
        "id": "89pyhfurc3J7",
        "outputId": "715e0a1f-fbaf-4bb2-eecb-4498ceff70c7"
      },
      "execution_count": null,
      "outputs": [
        {
          "output_type": "stream",
          "name": "stdout",
          "text": [
            "Abhi scored 85\n"
          ]
        }
      ]
    },
    {
      "cell_type": "markdown",
      "source": [
        "**2. Class Methods**:\n",
        "- Defined with @classmethod decorator.\n",
        "\n",
        "- First parameter is cls (class itself, not instance).\n",
        "\n",
        "- They **work with class-level data** (shared across all instances).\n",
        "\n",
        "- Useful for creating **alternative constructors**.\n",
        "\n",
        "**EXAMPLE**:"
      ],
      "metadata": {
        "id": "slIegoSrc8xA"
      }
    },
    {
      "cell_type": "code",
      "source": [
        "class Student:\n",
        "    school = \"DPS\"\n",
        "\n",
        "    def __init__(self, name, marks):\n",
        "        self.name = name\n",
        "        self.marks = marks\n",
        "\n",
        "    @classmethod\n",
        "    def change_school(cls, new_school):\n",
        "        cls.school = new_school   # modifies class variable\n",
        "\n",
        "    @classmethod\n",
        "    def from_string(cls, info):\n",
        "        name, marks = info.split('-')\n",
        "        return cls(name, int(marks))   # alternative constructor\n",
        "\n",
        "# Using class method\n",
        "Student.change_school(\"KV\")\n",
        "print(Student.school)  # KV\n",
        "\n",
        "# Alternative constructor\n",
        "s2 = Student.from_string(\"Ravi-92\")\n",
        "print(s2.name, s2.marks)  # Ravi 92\n"
      ],
      "metadata": {
        "colab": {
          "base_uri": "https://localhost:8080/"
        },
        "id": "sFbn7MwCdbmU",
        "outputId": "4fb63e2b-e1aa-4f05-fec1-400ff70d2c90"
      },
      "execution_count": null,
      "outputs": [
        {
          "output_type": "stream",
          "name": "stdout",
          "text": [
            "KV\n",
            "Ravi 92\n"
          ]
        }
      ]
    },
    {
      "cell_type": "markdown",
      "source": [
        "**3. Static Methods**:\n",
        "- Defined with @staticmethod decorator.\n",
        "\n",
        "- **Don’t take** self or cls as the first parameter.\n",
        "\n",
        "- Behave like **normal functions inside a class** (grouped logically with the class).\n",
        "\n",
        "- Used for utility/helper functions related to the class.\n",
        "\n",
        "**EXAMPLE**:"
      ],
      "metadata": {
        "id": "E98wk4gGdgG1"
      }
    },
    {
      "cell_type": "code",
      "source": [
        "class MathUtils:\n",
        "    @staticmethod\n",
        "    def add(a, b):\n",
        "        return a + b\n",
        "\n",
        "    @staticmethod\n",
        "    def is_even(n):\n",
        "        return n % 2 == 0\n",
        "\n",
        "print(MathUtils.add(10, 20))    # 30\n",
        "print(MathUtils.is_even(7))     # False\n"
      ],
      "metadata": {
        "colab": {
          "base_uri": "https://localhost:8080/"
        },
        "id": "XCzI0ELad43n",
        "outputId": "40c8427a-3702-4d17-a3da-6eaf3572cab7"
      },
      "execution_count": null,
      "outputs": [
        {
          "output_type": "stream",
          "name": "stdout",
          "text": [
            "30\n",
            "False\n"
          ]
        }
      ]
    },
    {
      "cell_type": "markdown",
      "source": [
        "Q11.What is method overloading in Python?\n",
        "- **Method Overloading** in programming generally means **defining multiple methods in the same class with the same name but different parameters (number or type)**.\n",
        "- This is common in languages like **Java or C++**, but **Python does not support method overloading in the traditional sense.**\n",
        "\n",
        "\n",
        "**Example 1: Traditional method overloading (Not supported in Python)**\n"
      ],
      "metadata": {
        "id": "_pe_jpiNeEWt"
      }
    },
    {
      "cell_type": "code",
      "source": [
        "class Example:\n",
        "    def add(self, a, b, c=0): # c has a default value of 0\n",
        "        return a + b + c\n",
        "\n",
        "obj = Example()\n",
        "print(obj.add(2, 3))      # Calls add(2, 3, 0)\n",
        "print(obj.add(2, 3, 4))   # Calls add(2, 3, 4)"
      ],
      "metadata": {
        "colab": {
          "base_uri": "https://localhost:8080/"
        },
        "id": "FV0uosCse2D_",
        "outputId": "3e91896d-a22e-43c7-8812-af0b8b715c77"
      },
      "execution_count": 2,
      "outputs": [
        {
          "output_type": "stream",
          "name": "stdout",
          "text": [
            "5\n",
            "9\n"
          ]
        }
      ]
    },
    {
      "cell_type": "markdown",
      "source": [
        "**Example 2: Using default arguments**"
      ],
      "metadata": {
        "id": "me46R1tye-My"
      }
    },
    {
      "cell_type": "code",
      "source": [
        "class Example:\n",
        "    def add(self, a=0, b=0, c=0):\n",
        "        return a + b + c\n",
        "\n",
        "obj = Example()\n",
        "print(obj.add(2, 3))      # 5\n",
        "print(obj.add(2, 3, 4))   # 9\n",
        "print(obj.add(5))         # 5\n"
      ],
      "metadata": {
        "colab": {
          "base_uri": "https://localhost:8080/"
        },
        "id": "4x1_-VGWfE56",
        "outputId": "f8153ba7-f2f5-4c60-85a0-02ee5a837ef3"
      },
      "execution_count": null,
      "outputs": [
        {
          "output_type": "stream",
          "name": "stdout",
          "text": [
            "5\n",
            "9\n",
            "5\n"
          ]
        }
      ]
    },
    {
      "cell_type": "markdown",
      "source": [
        "**Example 3: Using args (variable arguments)**"
      ],
      "metadata": {
        "id": "GeQnGmRCfI2P"
      }
    },
    {
      "cell_type": "code",
      "source": [
        "class Example:\n",
        "    def add(self, *args):\n",
        "        return sum(args)\n",
        "\n",
        "obj = Example()\n",
        "print(obj.add(2, 3))        # 5\n",
        "print(obj.add(2, 3, 4))     # 9\n",
        "print(obj.add(1, 2, 3, 4))  # 10\n"
      ],
      "metadata": {
        "colab": {
          "base_uri": "https://localhost:8080/"
        },
        "id": "nlU1Ea4XfP-N",
        "outputId": "7a0541c6-36ff-415b-cb7c-f49fbd8eef78"
      },
      "execution_count": null,
      "outputs": [
        {
          "output_type": "stream",
          "name": "stdout",
          "text": [
            "5\n",
            "9\n",
            "10\n"
          ]
        }
      ]
    },
    {
      "cell_type": "markdown",
      "source": [
        "Q12.What is method overriding in OOP?\n",
        " **Definition**:\n",
        "\n",
        "- Method overriding happens when a child (subclass) defines a method with the same name as a method in its parent (superclass), but provides its own implementation.\n",
        "\n",
        "This allows the subclass to change or extend the behavior of the parent’s method.\n",
        "\n",
        "**Key Points**:\n",
        "- The method name must be the same in parent and child classes.\n",
        "\n",
        "- The **parameters** must also be the same (unlike overloading).\n",
        "\n",
        "- The **child class’s method overrides** the parent’s method when called on a child object.\n",
        "\n",
        "- We can still call the parent method inside the child method using super().\n",
        "\n",
        "**Example of Method Overriding**:"
      ],
      "metadata": {
        "id": "a8dSjkN9fUOU"
      }
    },
    {
      "cell_type": "code",
      "source": [
        "class Animal:\n",
        "    def sound(self):\n",
        "        return \"Some generic animal sound\"\n",
        "\n",
        "class Dog(Animal):\n",
        "    def sound(self):  # Overriding the parent method\n",
        "        return \"Bark\"\n",
        "\n",
        "class Cat(Animal):\n",
        "    def sound(self):  # Overriding again\n",
        "        return \"Meow\"\n",
        "\n",
        "# Testing\n",
        "dog = Dog()\n",
        "cat = Cat()\n",
        "\n",
        "print(dog.sound())  # Output: Bark\n",
        "print(cat.sound())  # Output: Meow\n"
      ],
      "metadata": {
        "colab": {
          "base_uri": "https://localhost:8080/"
        },
        "id": "7PEC4Fz9gIa-",
        "outputId": "4485ccaf-0d97-4e36-f9ac-2876b6c5165c"
      },
      "execution_count": null,
      "outputs": [
        {
          "output_type": "stream",
          "name": "stdout",
          "text": [
            "Bark\n",
            "Meow\n"
          ]
        }
      ]
    },
    {
      "cell_type": "markdown",
      "source": [
        "Q13.What is a property decorator in Python?\n",
        "- In Python, the @property **decorator** is used to make a **method behave like an attribute.**\n",
        "\n",
        "- It allows you to define getter, setter, and deleter methods in an elegant way, without directly exposing the **internal data** (encapsulation).\n",
        "\n",
        "**EXAMPLE**:"
      ],
      "metadata": {
        "id": "Nf5mNKTVgOqn"
      }
    },
    {
      "cell_type": "code",
      "source": [
        "class Person:\n",
        "    def __init__(self, name):\n",
        "        self._name = name   # private variable (convention: underscore)\n",
        "\n",
        "    @property\n",
        "    def name(self):   # getter\n",
        "        return self._name\n",
        "\n",
        "p = Person(\"Abhishek\")\n",
        "print(p.name)   # Accessing like an attribute, but actually calls the method\n"
      ],
      "metadata": {
        "colab": {
          "base_uri": "https://localhost:8080/"
        },
        "id": "gMTDkn6cg3yP",
        "outputId": "68cac2ee-a085-436a-b7ae-8b108c9c9205"
      },
      "execution_count": null,
      "outputs": [
        {
          "output_type": "stream",
          "name": "stdout",
          "text": [
            "Abhishek\n"
          ]
        }
      ]
    },
    {
      "cell_type": "markdown",
      "source": [
        "Q14.Why is polymorphism important in OOP?\n",
        "- Polymorphism means \"many forms\".\n",
        "In Object-Oriented Programming, it allows the **same method name** (or operator) to behave differently depending on the object it is acting on.\n",
        "\n",
        "**EXAMPLE**:\n",
        "\n"
      ],
      "metadata": {
        "id": "0kkGzfplg9yl"
      }
    },
    {
      "cell_type": "code",
      "source": [
        "class Animal:\n",
        "    def sound(self):\n",
        "        raise NotImplementedError(\"Subclass must implement this method\")\n",
        "\n",
        "class Dog(Animal):\n",
        "    def sound(self):\n",
        "        return \"Bark\"\n",
        "\n",
        "class Cat(Animal):\n",
        "    def sound(self):\n",
        "        return \"Meow\"\n",
        "\n",
        "def make_sound(animal):\n",
        "    print(animal.sound())\n",
        "\n",
        "# Polymorphism in action\n",
        "dog = Dog()\n",
        "cat = Cat()\n",
        "\n",
        "make_sound(dog)  # Bark\n",
        "make_sound(cat)  # Meow\n"
      ],
      "metadata": {
        "colab": {
          "base_uri": "https://localhost:8080/"
        },
        "id": "6ANCoL9YhWnQ",
        "outputId": "0cd429ac-a10e-4459-c2c7-51200572079b"
      },
      "execution_count": null,
      "outputs": [
        {
          "output_type": "stream",
          "name": "stdout",
          "text": [
            "Bark\n",
            "Meow\n"
          ]
        }
      ]
    },
    {
      "cell_type": "markdown",
      "source": [
        "Q15.What is an abstract class in Python?\n",
        "\n",
        "An **abstract class** is a class that **cannot be instantiated directly**.\n",
        "It serves as a blueprint for other classes and may contain one or more abstract methods.\n",
        "\n",
        "- **Abstract methods** are methods that are declared but have no implementation (just a definition).\n",
        "\n",
        "- Subclasses must provide their own **implementation of these methods**.\n",
        "\n",
        "- In Python, we use the abc module **(abc = Abstract Base Classes) to create abstract classes.**\n",
        "\n",
        "**Key Points**:\n",
        "\n",
        "- Abstract class is created by inheriting from ABC (Abstract Base Class).\n",
        "\n",
        "- Abstract methods are defined using the @abstractmethod decorator.\n",
        "\n",
        "- You cannot create objects of an abstract class.\n",
        "\n",
        "- A subclass must implement all abstract methods; otherwise, it also becomes abstract.\n",
        "\n",
        "**EXAMPLE**:"
      ],
      "metadata": {
        "id": "aoB2lnTDhZg8"
      }
    },
    {
      "cell_type": "code",
      "source": [
        "from abc import ABC, abstractmethod\n",
        "\n",
        "class Shape(ABC):  # Abstract class\n",
        "    @abstractmethod\n",
        "    def area(self):   # Abstract method\n",
        "        pass\n",
        "\n",
        "    @abstractmethod\n",
        "    def perimeter(self):  # Abstract method\n",
        "        pass\n",
        "\n",
        "class Circle(Shape):   # Concrete class\n",
        "    def __init__(self, radius):\n",
        "        self.radius = radius\n",
        "\n",
        "    def area(self):   # Implement abstract method\n",
        "        return 3.14 * self.radius * self.radius\n",
        "\n",
        "    def perimeter(self):  # Implement abstract method\n",
        "        return 2 * 3.14 * self.radius\n",
        "\n",
        "# shape = Shape()  # ❌ Error: Can't instantiate abstract class\n",
        "circle = Circle(5)\n",
        "print(circle.area())      # 78.5\n",
        "print(circle.perimeter()) # 31.4\n"
      ],
      "metadata": {
        "colab": {
          "base_uri": "https://localhost:8080/"
        },
        "id": "0XEsjADpiggG",
        "outputId": "147361dd-ca04-4e85-8612-5e19166b9b26"
      },
      "execution_count": null,
      "outputs": [
        {
          "output_type": "stream",
          "name": "stdout",
          "text": [
            "78.5\n",
            "31.400000000000002\n"
          ]
        }
      ]
    },
    {
      "cell_type": "markdown",
      "source": [
        "Q16.What are the advantages of OOP?\n",
        "- Object-Oriented Programming (OOP) comes with several advantages that make it one of the most widely used programming paradigms. Here are the **main advantages of OOP:**\n",
        "\n",
        "**1. Modularity (Code Reusability & Organization)**\n",
        "- **Programs are divided into classes and objects**, making the code more structured.\n",
        "\n",
        "- **Code can be reused across multiple** projects (e.g., inheritance, libraries).\n",
        "\n",
        "**2. Abstraction**\n",
        "- Hides complex **implementation details and exposes only necessary functionality.**\n",
        "\n",
        "- Makes code easier to **understand and maintain.**\n",
        "\n",
        "**3.Abstraction (Hiding Complexity):**\n",
        "- you can hide complex implementation details and expose only what is necessary.\n",
        "\n",
        "- Makes systems easier to use and maintain.\n",
        "\n",
        "**4.Inheritance (Code Extensibility):**\n",
        "- A new class (child) can inherit **properties and behaviors*** from an existing class (parent).\n",
        "\n",
        "- Reduces **redundancy and improves maintainability**.\n",
        "\n",
        "**5.Polymorphism (Flexibility)**:\n",
        "- The same **function or operator can behave** differently depending on the context.\n",
        "\n",
        "- Improves **code flexibility and scalability** (e.g., method overriding and overloading).\n",
        "\n",
        "**6.Scalability::**\n",
        "- OOP makes it easier to **manage and scale large and complex projects**.\n",
        "\n",
        "- Team members can work on **different classes/modules** independently.\n",
        "\n",
        "**7.Maintainability:**\n",
        "- **OOP code is easier to modify and update** because each class is self-contained.\n",
        "\n",
        "- Bugs can be **fixed in one class without affecting the entire system.**"
      ],
      "metadata": {
        "id": "0NQMb_wkjFZ6"
      }
    },
    {
      "cell_type": "markdown",
      "source": [
        "Q17.What is the difference between a class variable and an instance variable?\n",
        "\n",
        "**ANSWER**\n",
        "\n",
        "| Feature              | **Class Variable**                                         | **Instance Variable**                                                 |\n",
        "| -------------------- | ---------------------------------------------------------- | --------------------------------------------------------------------- |\n",
        "| **Definition**       | A variable that is shared across all objects of a class.   | A variable that belongs to a specific object (instance) of the class. |\n",
        "| **Declared Inside**  | Inside the class, but **outside any method/constructor**.  | Inside the **constructor (`__init__`)** or methods using `self`.      |\n",
        "| **Storage**          | Stored only once, shared by all objects.                   | Each object has its own separate copy.                                |\n",
        "| **Access**           | Accessed using `ClassName.variable` or `self.variable`.    | Accessed using `self.variable`.                                       |\n",
        "| **Effect of Change** | Changing the value affects **all instances** of the class. | Changing the value affects **only that instance**.                    |\n"
      ],
      "metadata": {
        "id": "cnajWvC4P5zI"
      }
    },
    {
      "cell_type": "markdown",
      "source": [
        "**EXAMPLE**:"
      ],
      "metadata": {
        "id": "2MPxeeKvQfTM"
      }
    },
    {
      "cell_type": "code",
      "source": [
        "class Student:\n",
        "    # Class variable\n",
        "    school_name = \"ABC School\"\n",
        "\n",
        "    def __init__(self, name, age):\n",
        "        # Instance variables\n",
        "        self.name = name\n",
        "        self.age = age\n",
        "\n",
        "# Create objects\n",
        "s1 = Student(\"Rahul\", 15)\n",
        "s2 = Student(\"Anita\", 16)\n",
        "\n",
        "# Access class variable\n",
        "print(s1.school_name)   # ABC School\n",
        "print(s2.school_name)   # ABC School\n",
        "\n",
        "# Access instance variable\n",
        "print(s1.name)   # Rahul\n",
        "print(s2.name)   # Anita\n",
        "\n",
        "# Change class variable\n",
        "Student.school_name = \"XYZ School\"\n",
        "print(s1.school_name)   # XYZ School (changed for all objects)\n",
        "\n",
        "# Change instance variable\n",
        "s1.age = 18\n",
        "print(s1.age)  # 18\n",
        "print(s2.age)  # 16 (unaffected)\n"
      ],
      "metadata": {
        "colab": {
          "base_uri": "https://localhost:8080/"
        },
        "id": "aU29GiNjQim4",
        "outputId": "1b05c78a-f9de-40ab-ff85-c4d5f664e646"
      },
      "execution_count": 3,
      "outputs": [
        {
          "output_type": "stream",
          "name": "stdout",
          "text": [
            "ABC School\n",
            "ABC School\n",
            "Rahul\n",
            "Anita\n",
            "XYZ School\n",
            "18\n",
            "16\n"
          ]
        }
      ]
    },
    {
      "cell_type": "markdown",
      "source": [
        "Q18.What is multiple inheritance in Python?\n",
        "\n",
        "**Multiple Inheritance**:\n",
        "\n",
        "- Multiple inheritance is a feature in Python where a class can **inherit from more than one parent class.**\n",
        "- This means the child class gets the **properties and methods of all its parent classes**.\n",
        "\n",
        "\n",
        "**EXAMPLRE**:\n"
      ],
      "metadata": {
        "id": "E1mainGVQpff"
      }
    },
    {
      "cell_type": "code",
      "source": [
        "class Parent1:\n",
        "    # parent class 1\n",
        "    pass\n",
        "\n",
        "class Parent2:\n",
        "    # parent class 2\n",
        "    pass\n",
        "\n",
        "class Child(Parent1, Parent2):\n",
        "    # child inherits from both Parent1 and Parent2\n",
        "    pass\n"
      ],
      "metadata": {
        "id": "1hZpUVRlRLT6"
      },
      "execution_count": 6,
      "outputs": []
    },
    {
      "cell_type": "markdown",
      "source": [
        "Q19.Explain the purpose of ‘’__str__’ and ‘__repr__’ ‘ methods in Python?\n",
        "\n",
        "__str__ vs __repr__ in **Python**:\n",
        "1. __str__ **(Human-readable):**\n",
        "- Purpose: Returns a **readable and user-friendly string** representation of the object.\n",
        "\n",
        "- Used when: You **call print(object) or use str(object)**.\n",
        "\n",
        "- Goal: Make the **output easy** to understand for humans.\n",
        "\n",
        "2. __repr__ **(Developer-readable)**:\n",
        "- Purpose: Returns a string that **represents the object in a way that is useful for developers.**\n",
        "\n",
        "- Used when: You call repr(object) or just type the **object name in an interactive shell.**\n",
        "\n",
        "- Goal: Ideally, it should be an unambiguous **representation of the object (sometimes even a valid Python expression to recreate it)**\n",
        "\n",
        "**KEY DIFFERENCE**:\n",
        "- __str__ → for users (readable, pretty).\n",
        "- __repr__ → for **developers** (unambiguous, debugging).\n"
      ],
      "metadata": {
        "id": "_Rw4JwVJRSqN"
      }
    },
    {
      "cell_type": "markdown",
      "source": [
        "**EXAMPLE**:"
      ],
      "metadata": {
        "id": "Ai9UEzLpSpvN"
      }
    },
    {
      "cell_type": "code",
      "source": [
        "class Student:\n",
        "    def __init__(self, name, age):\n",
        "        self.name = name\n",
        "        self.age = age\n",
        "\n",
        "    def __str__(self):\n",
        "        return f\"Student Name: {self.name}, Age: {self.age}\"\n",
        "\n",
        "    def __repr__(self):\n",
        "        return f\"Student('{self.name}', {self.age})\"\n",
        "\n",
        "# Create object\n",
        "s = Student(\"Rahul\", 20)\n",
        "\n",
        "print(s)          # Calls __str__\n",
        "print(str(s))     # Calls __str__\n",
        "print(repr(s))    # Calls __repr__\n",
        "s                 # In interactive shell, calls __repr__\n"
      ],
      "metadata": {
        "colab": {
          "base_uri": "https://localhost:8080/"
        },
        "id": "dcIQb2ynSsqL",
        "outputId": "f4ede1d3-a772-4bbc-b22c-178679c98207"
      },
      "execution_count": 7,
      "outputs": [
        {
          "output_type": "stream",
          "name": "stdout",
          "text": [
            "Student Name: Rahul, Age: 20\n",
            "Student Name: Rahul, Age: 20\n",
            "Student('Rahul', 20)\n"
          ]
        },
        {
          "output_type": "execute_result",
          "data": {
            "text/plain": [
              "Student('Rahul', 20)"
            ]
          },
          "metadata": {},
          "execution_count": 7
        }
      ]
    },
    {
      "cell_type": "markdown",
      "source": [
        "Q20.What is the significance of the ‘super()’ function in Python?\n",
        "\n",
        "**Significance of** super() **in Python**\n",
        "- The super() function is used to **call methods from a parent (superclass) inside a child (subclass).**\n",
        "- It allows you to extend or modify inherited methods **without losing the functionality of the parent class**.\n",
        "\n",
        "\n",
        "**Key Points about super():**\n",
        "- **Calls Parent Methods:** Lets you call a method from the superclass without explicitly naming it.\n",
        "- **Supports Multiple Inheritance:** Works with Python’s **Method Resolution Order** (MRO) to decide which parent’s method to call.\n",
        "- **Avoids Code Duplication:** Helps reuse code from the parent class.\n",
        "- **Safer than Direct Class Call:** If you use ParentClass.method(self), it breaks easily in multiple inheritance, but super() follows MRO and avoids conflicts.\n"
      ],
      "metadata": {
        "id": "0dhIGzXaTKYH"
      }
    },
    {
      "cell_type": "markdown",
      "source": [
        "**EXAMPLE 1:SINGLE INHERITANCE**"
      ],
      "metadata": {
        "id": "e-RpfUreVD7h"
      }
    },
    {
      "cell_type": "code",
      "source": [
        "class Parent:\n",
        "    def show(self):\n",
        "        print(\"This is Parent class\")\n",
        "\n",
        "class Child(Parent):\n",
        "    def show(self):\n",
        "        super().show()   # Call parent method\n",
        "        print(\"This is Child class\")\n",
        "\n",
        "c = Child()\n",
        "c.show()\n"
      ],
      "metadata": {
        "colab": {
          "base_uri": "https://localhost:8080/"
        },
        "id": "kjjWTjdGWE7F",
        "outputId": "66549a9a-f9b3-4030-b3f4-f90edccf02d6"
      },
      "execution_count": 8,
      "outputs": [
        {
          "output_type": "stream",
          "name": "stdout",
          "text": [
            "This is Parent class\n",
            "This is Child class\n"
          ]
        }
      ]
    },
    {
      "cell_type": "markdown",
      "source": [
        "**EXAMPLE 2:WITH CONSTRUCTOR** (init)"
      ],
      "metadata": {
        "id": "heXlxa_WWIIi"
      }
    },
    {
      "cell_type": "code",
      "source": [
        "class Person:\n",
        "    def __init__(self, name):\n",
        "        self.name = name\n",
        "        print(\"Person initialized\")\n",
        "\n",
        "class Student(Person):\n",
        "    def __init__(self, name, roll):\n",
        "        super().__init__(name)   # Call parent __init__\n",
        "        self.roll = roll\n",
        "        print(\"Student initialized\")\n",
        "\n",
        "s = Student(\"Rahul\", 101)\n"
      ],
      "metadata": {
        "colab": {
          "base_uri": "https://localhost:8080/"
        },
        "id": "5segXXlpWlPJ",
        "outputId": "8334eb04-2cfd-41fc-d19b-e28cb0892179"
      },
      "execution_count": 9,
      "outputs": [
        {
          "output_type": "stream",
          "name": "stdout",
          "text": [
            "Person initialized\n",
            "Student initialized\n"
          ]
        }
      ]
    },
    {
      "cell_type": "markdown",
      "source": [
        "**EXAMPLE 3:MULTIPLE INHERITANCE & (MRO)**"
      ],
      "metadata": {
        "id": "Baio8Wx9WxhS"
      }
    },
    {
      "cell_type": "code",
      "source": [
        "class A:\n",
        "    def show(self):\n",
        "        print(\"A class\")\n",
        "\n",
        "class B(A):\n",
        "    def show(self):\n",
        "        super().show()\n",
        "        print(\"B class\")\n",
        "\n",
        "class C(B):\n",
        "    def show(self):\n",
        "        super().show()\n",
        "        print(\"C class\")\n",
        "\n",
        "obj = C()\n",
        "obj.show()\n"
      ],
      "metadata": {
        "colab": {
          "base_uri": "https://localhost:8080/"
        },
        "id": "K5VYzisbW_W5",
        "outputId": "1d01b6a3-438f-47d8-8094-09cddaa0d775"
      },
      "execution_count": 10,
      "outputs": [
        {
          "output_type": "stream",
          "name": "stdout",
          "text": [
            "A class\n",
            "B class\n",
            "C class\n"
          ]
        }
      ]
    },
    {
      "cell_type": "markdown",
      "source": [
        "Q21.What is the significance of the __del__ method in Python?\n",
        "- The __del__ method in Python is a destructor method.\n",
        "It is **automatically called when an object is about to be destroyed (garbage collected)**.\n",
        "\n",
        "**Significance**/**PURPOSE**\n",
        "- **Resource Cleanup** – Used to release external resources (like closing files, database connections, or network sockets) when an object is no longer needed\n",
        "- **Finalization** – Defines actions that must be taken before the object is removed from memory.\n",
        "- **Automatic Call** – Python automatically calls it when the reference count of an object reaches zero.\n",
        "\n",
        "**SYNTAX**\n"
      ],
      "metadata": {
        "id": "OW5Os5J5XDr9"
      }
    },
    {
      "cell_type": "code",
      "source": [
        "def __del__(self):\n",
        "    # cleanup code\n",
        "    print(\"Destructor called, object deleted\")\n"
      ],
      "metadata": {
        "id": "u5apLiZQX-TQ"
      },
      "execution_count": 11,
      "outputs": []
    },
    {
      "cell_type": "markdown",
      "source": [
        "**EXAMPLE 1:BASIC DESTRUCTOR**"
      ],
      "metadata": {
        "id": "zi64MGYbYGQl"
      }
    },
    {
      "cell_type": "code",
      "source": [
        "class Demo:\n",
        "    def __init__(self):\n",
        "        print(\"Object created\")\n",
        "\n",
        "    def __del__(self):\n",
        "        print(\"Destructor called, object destroyed\")\n",
        "\n",
        "obj = Demo()\n",
        "del obj   # manually deleting object\n"
      ],
      "metadata": {
        "colab": {
          "base_uri": "https://localhost:8080/"
        },
        "id": "9-1-wO51YNMl",
        "outputId": "e1cc2ab5-7cd5-4d32-d3d9-f9b5b9edea18"
      },
      "execution_count": 12,
      "outputs": [
        {
          "output_type": "stream",
          "name": "stdout",
          "text": [
            "Object created\n",
            "Destructor called, object destroyed\n"
          ]
        }
      ]
    },
    {
      "cell_type": "markdown",
      "source": [
        "**EXAMPLE 2:FILE HANDLING WITH** (del)"
      ],
      "metadata": {
        "id": "AODIBZJIYQ7G"
      }
    },
    {
      "cell_type": "code",
      "source": [
        "class FileManager:\n",
        "    def __init__(self, filename):\n",
        "        self.file = open(filename, \"w\")\n",
        "        print(\"File opened\")\n",
        "\n",
        "    def __del__(self):\n",
        "        self.file.close()\n",
        "        print(\"File closed automatically\")\n",
        "\n",
        "fm = FileManager(\"test.txt\")\n",
        "del fm\n"
      ],
      "metadata": {
        "colab": {
          "base_uri": "https://localhost:8080/"
        },
        "id": "-uG-oFSsYjwt",
        "outputId": "35413ef4-db12-4c35-c0f8-c57de7837a1c"
      },
      "execution_count": 13,
      "outputs": [
        {
          "output_type": "stream",
          "name": "stdout",
          "text": [
            "File opened\n",
            "File closed automatically\n"
          ]
        }
      ]
    },
    {
      "cell_type": "markdown",
      "source": [
        "Q22.What is the difference between @staticmethod and @classmethod in Python?\n",
        "\n",
        "- **Difference between** @staticmethod and @classmethod **in Python**\n",
        "| Feature                         | **`@staticmethod`**                                                     | **`@classmethod`**                                                      |\n",
        "| ------------------------------- | ----------------------------------------------------------------------- | ----------------------------------------------------------------------- |\n",
        "| **Definition**                  | A method that does **not take `self` or `cls`** as the first parameter. | A method that takes **`cls`** (class itself) as the first parameter.    |\n",
        "| **Access to Instance (`self`)** | ❌ Cannot access instance attributes or methods.                         | ❌ Cannot access instance attributes directly.                           |\n",
        "| **Access to Class (`cls`)**     | ❌ Cannot access class variables or modify them.                         | ✅ Can access and modify **class variables**.                            |\n",
        "| **When to Use**                 | When the method’s logic is independent of class/instance data.          | When the method needs to work with the **class itself**, not instances. |\n",
        "| **How to Call**                 | `ClassName.method()` or `object.method()`                               | `ClassName.method()` or `object.method()`                               |\n",
        "\n"
      ],
      "metadata": {
        "id": "Nywovk-fYo8u"
      }
    },
    {
      "cell_type": "markdown",
      "source": [
        "**EXAMPLE**:"
      ],
      "metadata": {
        "id": "eSIonpvMZLEb"
      }
    },
    {
      "cell_type": "code",
      "source": [
        "class Student:\n",
        "    school_name = \"ABC School\"   # class variable\n",
        "\n",
        "    def __init__(self, name):\n",
        "        self.name = name\n",
        "\n",
        "    @staticmethod\n",
        "    def greet():\n",
        "        return \"Welcome to the school!\"\n",
        "\n",
        "    @classmethod\n",
        "    def change_school(cls, new_name):\n",
        "        cls.school_name = new_name\n",
        "\n",
        "# Using static method\n",
        "print(Student.greet())   # Welcome to the school!\n",
        "\n",
        "# Using class method to change class variable\n",
        "Student.change_school(\"XYZ School\")\n",
        "print(Student.school_name)   # XYZ School\n"
      ],
      "metadata": {
        "colab": {
          "base_uri": "https://localhost:8080/"
        },
        "id": "eTI2-8yaZOKG",
        "outputId": "ffccc2fb-400e-48b3-d0df-1ccf6fc25824"
      },
      "execution_count": 14,
      "outputs": [
        {
          "output_type": "stream",
          "name": "stdout",
          "text": [
            "Welcome to the school!\n",
            "XYZ School\n"
          ]
        }
      ]
    },
    {
      "cell_type": "markdown",
      "source": [
        "Q23.How does polymorphism work in Python with inheritance?\n",
        "\n",
        "- Polymorphism with inheritance in Python allows the same method name to perform different tasks in **parent and child classes**, depending on the object that calls it.\n",
        "- Polymorphism means “many forms” – the same method name can have **different implementations depending on the object (or class) calling it**.\n",
        "\n",
        "- When **combined with inheritance, polymorphism allows a child class to override methods of the parent class and provide its own behavior.**\n",
        "\n",
        "**KEY POINT**:\n",
        "- The method speak() is common to **all classes.**\n",
        "\n",
        "- Each child class (Dog, Cat) **overrides it with its own implementation.**\n",
        "\n",
        "- At runtime, Python decides which version to **call based on the object type** → This is runtime polymorphism.\n",
        "\n",
        "**EXAMPLE:**"
      ],
      "metadata": {
        "id": "vk4pW8REZVt4"
      }
    },
    {
      "cell_type": "code",
      "source": [
        "class Animal:\n",
        "    def speak(self):\n",
        "        return \"Some sound\"\n",
        "\n",
        "class Dog(Animal):\n",
        "    def speak(self):\n",
        "        return \"Bark\"\n",
        "\n",
        "class Cat(Animal):\n",
        "    def speak(self):\n",
        "        return \"Meow\"\n",
        "\n",
        "# Polymorphism in action\n",
        "animals = [Dog(), Cat(), Animal()]\n",
        "\n",
        "for a in animals:\n",
        "    print(a.speak())   # Same method call, different behavior\n"
      ],
      "metadata": {
        "id": "FNAUpQe2aHGn"
      },
      "execution_count": null,
      "outputs": []
    },
    {
      "cell_type": "markdown",
      "source": [
        "Q24.What is method chaining in Python OOP?\n",
        "\n",
        "**Method Chaining in Python OOP**\n",
        "- Method chaining is a technique where multiple methods are called on the same object in a single line.\n",
        "Each method returns the object (self), so you can chain the next method call.\n",
        "- Method chaining allows calling multiple methods in a single statement.\n",
        "\n",
        "- Works by returning self from methods.\n",
        "\n",
        "- Makes code cleaner and more fluent.\n",
        "\n",
        "**EXAMPLE**:\n"
      ],
      "metadata": {
        "id": "r8BYWTDaahP6"
      }
    },
    {
      "cell_type": "code",
      "source": [
        "class Student:\n",
        "    def __init__(self, name):\n",
        "        self.name = name\n",
        "        self.marks = 0\n",
        "\n",
        "    def set_marks(self, marks):\n",
        "        self.marks = marks\n",
        "        return self   # return the object itself\n",
        "\n",
        "    def display(self):\n",
        "        print(f\"Name: {self.name}, Marks: {self.marks}\")\n",
        "        return self   # return the object itself\n",
        "\n",
        "# Method chaining\n",
        "s = Student(\"Rahul\")\n",
        "s.set_marks(85).display()\n"
      ],
      "metadata": {
        "colab": {
          "base_uri": "https://localhost:8080/"
        },
        "id": "Rr4My3I6bLce",
        "outputId": "3cb12ac3-1392-4927-c61f-48c7db3034c8"
      },
      "execution_count": 15,
      "outputs": [
        {
          "output_type": "stream",
          "name": "stdout",
          "text": [
            "Name: Rahul, Marks: 85\n"
          ]
        },
        {
          "output_type": "execute_result",
          "data": {
            "text/plain": [
              "<__main__.Student at 0x7a5327ac4890>"
            ]
          },
          "metadata": {},
          "execution_count": 15
        }
      ]
    },
    {
      "cell_type": "markdown",
      "source": [
        "Q25.What is the purpose of the __call__ method in Python?\n",
        "- In Python, the __call__ method is a special (dunder) method that allows an instance of a class to be called like a function.\n",
        "**PURPOSE OF** CALL:\n",
        "- It makes an **object callable, meaning you can use parentheses** () on the object as if it were a function.\n",
        "\n",
        "- It is often used when you want **objects to have behavior similar to functions but still keep internal state.**"
      ],
      "metadata": {
        "id": "z3lMcLSpbP1-"
      }
    },
    {
      "cell_type": "markdown",
      "source": [
        "**EXAMPLE:**"
      ],
      "metadata": {
        "id": "Fdi3ADZjb-Td"
      }
    },
    {
      "cell_type": "code",
      "source": [
        "class Multiplier:\n",
        "    def __init__(self, factor):\n",
        "        self.factor = factor\n",
        "\n",
        "    def __call__(self, x):\n",
        "        return x * self.factor\n",
        "\n",
        "double = Multiplier(2)   # create object\n",
        "triple = Multiplier(3)\n",
        "\n",
        "print(double(5))  # Calls __call__(5) → 10\n",
        "print(triple(5))  # Calls __call__(5) → 15\n"
      ],
      "metadata": {
        "colab": {
          "base_uri": "https://localhost:8080/"
        },
        "id": "wq0x3xSKcCdC",
        "outputId": "cb90f981-e8d6-4574-c391-d6a5b32fb9f1"
      },
      "execution_count": 16,
      "outputs": [
        {
          "output_type": "stream",
          "name": "stdout",
          "text": [
            "10\n",
            "15\n"
          ]
        }
      ]
    },
    {
      "cell_type": "markdown",
      "source": [
        "**Real-world use cases:**\n",
        "- **Function objects with state**\n",
        "- (like a function but with extra memory/attributes).\n",
        "\n",
        "- **Decorators**\n",
        "- Many decorators are implemented as callable classes.\n",
        "\n",
        "- **Machine Learning / Data Pipelines**\n",
        "- Example: Preprocessing objects in libraries (like scikit-learn transformers) use __call__ to apply transformations.\n",
        "\n",
        "- **Flexible APIs**\n",
        "- It lets you design objects that behave like both functions and objects."
      ],
      "metadata": {
        "id": "lfA897yIcGpR"
      }
    },
    {
      "cell_type": "markdown",
      "source": [
        "#PRACTICAL\n"
      ],
      "metadata": {
        "id": "2o8p7IaHcqNp"
      }
    },
    {
      "cell_type": "code",
      "source": [
        "# Create a parent class Animal with a method speak() that prints a generic message. Create a child class Dog\n",
        "# that overrides the speak() method to print \"Bark!\".?\n",
        "# Parent class\n",
        "class Animal:\n",
        "    def speak(self):\n",
        "        print(\"This animal makes a sound.\")\n",
        "\n",
        "# Child class\n",
        "class Dog(Animal):\n",
        "    def speak(self):\n",
        "        print(\"Bark!\")\n",
        "\n",
        "# Example usage\n",
        "a = Animal()\n",
        "a.speak()\n",
        "\n",
        "d = Dog()\n",
        "d.speak()"
      ],
      "metadata": {
        "colab": {
          "base_uri": "https://localhost:8080/"
        },
        "id": "x9ViEOAFx_UQ",
        "outputId": "4eeec596-2501-4e6b-9f59-42f2afe3c65a"
      },
      "execution_count": 2,
      "outputs": [
        {
          "output_type": "stream",
          "name": "stdout",
          "text": [
            "This animal makes a sound.\n",
            "Bark!\n"
          ]
        }
      ]
    },
    {
      "cell_type": "code",
      "source": [
        "# Write a program to create an abstract class Shape with a method area(). Derive classes Circle and Rectangle\n",
        "# from it and implement the area() method in both.\n",
        "from abc import ABC, abstractmethod\n",
        "import math\n",
        "\n",
        "# Abstract class\n",
        "class Shape(ABC):\n",
        "    @abstractmethod\n",
        "    def area(self):\n",
        "        pass   # abstract method, must be implemented in child classes\n",
        "\n",
        "# Derived class: Circle\n",
        "class Circle(Shape):\n",
        "    def __init__(self, radius):\n",
        "        self.radius = radius\n",
        "\n",
        "    def area(self):\n",
        "        return math.pi * (self.radius ** 2)\n",
        "\n",
        "# Derived class: Rectangle\n",
        "class Rectangle(Shape):\n",
        "    def __init__(self, length, width):\n",
        "        self.length = length\n",
        "        self.width = width\n",
        "\n",
        "    def area(self):\n",
        "        return self.length * self.width\n",
        "\n",
        "\n",
        "# Example usage\n",
        "shapes = [Circle(5), Rectangle(4, 6)]\n",
        "\n",
        "for shape in shapes:\n",
        "    print(f\"Area: {shape.area()}\")"
      ],
      "metadata": {
        "colab": {
          "base_uri": "https://localhost:8080/"
        },
        "id": "tC4wybOdzABY",
        "outputId": "6d532d9f-c554-4b02-b698-cd6389c048ba"
      },
      "execution_count": 9,
      "outputs": [
        {
          "output_type": "stream",
          "name": "stdout",
          "text": [
            "Area: 78.53981633974483\n",
            "Area: 24\n"
          ]
        }
      ]
    },
    {
      "cell_type": "code",
      "source": [
        "3 # Implement a multi-level inheritance scenario where a class Vehicle has an attribute type. Derive a class Car\n",
        "#and further derive a class ElectricCar that adds a battery attribute.\n",
        "# Base class\n",
        "class Vehicle:\n",
        "    def __init__(self, vehicle_type):\n",
        "        self.vehicle_type = vehicle_type\n",
        "\n",
        "    def show_info(self):\n",
        "        print(f\"Vehicle type: {self.vehicle_type}\")\n",
        "\n",
        "\n",
        "# Derived class from Vehicle\n",
        "class Car(Vehicle):\n",
        "    def __init__(self, vehicle_type, brand):\n",
        "        super().__init__(vehicle_type)   # Call Vehicle's constructor\n",
        "        self.brand = brand\n",
        "\n",
        "    def show_info(self):\n",
        "        super().show_info()  # Call Vehicle's show_info()\n",
        "        print(f\"Car brand: {self.brand}\")\n",
        "\n",
        "\n",
        "# Further derived class from Car\n",
        "class ElectricCar(Car):\n",
        "    def __init__(self, vehicle_type, brand, battery_capacity):\n",
        "        super().__init__(vehicle_type, brand)  # Call Car's constructor\n",
        "        self.battery_capacity = battery_capacity\n",
        "\n",
        "    def show_info(self):\n",
        "        super().show_info()  # Call Car's show_info()\n",
        "        print(f\"Battery capacity: {self.battery_capacity} kWh\")\n",
        "\n",
        "\n",
        "# Example usage\n",
        "e_car = ElectricCar(\"Four-wheeler\", \"Tesla\", 85)\n",
        "e_car.show_info()\n"
      ],
      "metadata": {
        "colab": {
          "base_uri": "https://localhost:8080/"
        },
        "id": "yGnlNnrKzexs",
        "outputId": "38a017e3-535c-40bc-a2e6-7a6424a92c04"
      },
      "execution_count": 10,
      "outputs": [
        {
          "output_type": "stream",
          "name": "stdout",
          "text": [
            "Vehicle type: Four-wheeler\n",
            "Car brand: Tesla\n",
            "Battery capacity: 85 kWh\n"
          ]
        }
      ]
    },
    {
      "cell_type": "code",
      "source": [
        "4 # Demonstrate polymorphism by creating a base class Bird with a method fly(). Create two derived classes\n",
        "#Sparrow and Penguin that override the fly() method.?\n",
        "# Base class\n",
        "class Bird:\n",
        "    def fly(self):\n",
        "        print(\"Birds can fly in different ways.\")\n",
        "\n",
        "# Derived class Sparrow\n",
        "class Sparrow(Bird):\n",
        "    def fly(self):\n",
        "        print(\"Sparrow flies high in the sky!\")\n",
        "\n",
        "# Derived class Penguin\n",
        "class Penguin(Bird):\n",
        "    def fly(self):\n",
        "        print(\"Penguins cannot fly, they swim instead!\")\n",
        "\n",
        "# Polymorphism in action\n",
        "def show_flying(bird):\n",
        "    bird.fly()\n",
        "\n",
        "# Creating objects\n",
        "sparrow = Sparrow()\n",
        "penguin = Penguin()\n",
        "\n",
        "# Demonstrating polymorphism\n",
        "show_flying(sparrow)   # Calls Sparrow's fly()\n",
        "show_flying(penguin)   # Calls Penguin's fly()\n",
        "\n",
        "\n"
      ],
      "metadata": {
        "colab": {
          "base_uri": "https://localhost:8080/"
        },
        "id": "wHeRSnPWzs6F",
        "outputId": "e1fb62d3-f245-4d30-e987-a28ec71f686a"
      },
      "execution_count": 11,
      "outputs": [
        {
          "output_type": "stream",
          "name": "stdout",
          "text": [
            "Sparrow flies high in the sky!\n",
            "Penguins cannot fly, they swim instead!\n"
          ]
        }
      ]
    },
    {
      "cell_type": "code",
      "source": [
        "5 # Write a program to demonstrate encapsulation by creating a class BankAccount with private attributes\n",
        "#balance and methods to deposit, withdraw, and check balance.?\n",
        "\n",
        "class BankAccount:\n",
        "    def __init__(self, initial_balance=0):\n",
        "        # Private attribute\n",
        "        self.__balance = initial_balance\n",
        "\n",
        "    # Method to deposit money\n",
        "    def deposit(self, amount):\n",
        "        if amount > 0:\n",
        "            self.__balance += amount\n",
        "            print(f\"Deposited: {amount}\")\n",
        "        else:\n",
        "            print(\"Deposit amount must be positive.\")\n",
        "\n",
        "    # Method to withdraw money\n",
        "    def withdraw(self, amount):\n",
        "        if 0 < amount <= self.__balance:\n",
        "            self.__balance -= amount\n",
        "            print(f\"Withdrew: {amount}\")\n",
        "        else:\n",
        "            print(\"Insufficient balance or invalid amount.\")\n",
        "\n",
        "    # Method to check balance\n",
        "    def check_balance(self):\n",
        "        print(f\"Current Balance: {self.__balance}\")\n",
        "\n",
        "\n",
        "# Usage\n",
        "account = BankAccount(500)  # Opening with initial balance\n",
        "account.check_balance()\n",
        "\n",
        "account.deposit(200)\n",
        "account.check_balance()\n",
        "\n",
        "account.withdraw(100)\n",
        "account.check_balance()\n",
        "\n",
        "# Trying to access private variable directly (will fail)\n",
        "# print(account.__balance)  # ❌ This will raise an AttributeError\n"
      ],
      "metadata": {
        "colab": {
          "base_uri": "https://localhost:8080/"
        },
        "id": "muIKBkin0KBN",
        "outputId": "30f08fa0-4308-4b45-c7a5-40000accc2bd"
      },
      "execution_count": 12,
      "outputs": [
        {
          "output_type": "stream",
          "name": "stdout",
          "text": [
            "Current Balance: 500\n",
            "Deposited: 200\n",
            "Current Balance: 700\n",
            "Withdrew: 100\n",
            "Current Balance: 600\n"
          ]
        }
      ]
    },
    {
      "cell_type": "code",
      "source": [
        "6 #  Demonstrate runtime polymorphism using a method play() in a base class Instrument. Derive classes Guitar\n",
        "#and Piano that implement their own version of play()?\n",
        "\n",
        "# Base class\n",
        "class Instrument:\n",
        "    def play(self):\n",
        "        print(\"An instrument is playing.\")\n",
        "\n",
        "# Derived class Guitar\n",
        "class Guitar(Instrument):\n",
        "    def play(self):\n",
        "        print(\"Strumming the guitar 🎸\")\n",
        "\n",
        "# Derived class Piano\n",
        "class Piano(Instrument):\n",
        "    def play(self):\n",
        "        print(\"Playing the piano 🎹\")\n",
        "\n",
        "# Function to demonstrate runtime polymorphism\n",
        "def start_playing(instrument):\n",
        "    instrument.play()\n",
        "\n",
        "# Creating objects\n",
        "guitar = Guitar()\n",
        "piano = Piano()\n",
        "\n",
        "# Demonstrating polymorphism\n",
        "start_playing(guitar)  # Calls Guitar's play()\n",
        "start_playing(piano)   # Calls Piano's play()\n"
      ],
      "metadata": {
        "colab": {
          "base_uri": "https://localhost:8080/"
        },
        "id": "WMWRyr1r0WkJ",
        "outputId": "19eb1b2f-91e6-454e-bb2c-e67782c7e651"
      },
      "execution_count": 13,
      "outputs": [
        {
          "output_type": "stream",
          "name": "stdout",
          "text": [
            "Strumming the guitar 🎸\n",
            "Playing the piano 🎹\n"
          ]
        }
      ]
    },
    {
      "cell_type": "code",
      "source": [
        "7 #  Create a class MathOperations with a class method add_numbers() to add two numbers and a static\n",
        "#method subtract_numbers() to subtract two numbers?\n",
        "\n",
        "class MathOperations:\n",
        "    # Class method\n",
        "    @classmethod\n",
        "    def add_numbers(cls, a, b):\n",
        "        return a + b\n",
        "\n",
        "    # Static method\n",
        "    @staticmethod\n",
        "    def subtract_numbers(a, b):\n",
        "        return a - b\n",
        "\n",
        "\n",
        "# Usage\n",
        "print(\"Addition:\", MathOperations.add_numbers(10, 5))   # Using class method\n",
        "print(\"Subtraction:\", MathOperations.subtract_numbers(10, 5))  # Using static method\n"
      ],
      "metadata": {
        "colab": {
          "base_uri": "https://localhost:8080/"
        },
        "id": "zzb3DbYU0jFA",
        "outputId": "0775dc7b-3e53-4bc2-e8b2-8e3712e263be"
      },
      "execution_count": 14,
      "outputs": [
        {
          "output_type": "stream",
          "name": "stdout",
          "text": [
            "Addition: 15\n",
            "Subtraction: 5\n"
          ]
        }
      ]
    },
    {
      "cell_type": "code",
      "source": [
        "8 #Implement a class Person with a class method to count the total number of persons created?\n",
        "class Person:\n",
        "    # Class variable to keep count\n",
        "    count = 0\n",
        "\n",
        "    def __init__(self, name):\n",
        "        self.name = name\n",
        "        Person.count += 1   # Increase count when new object is created\n",
        "\n",
        "    # Class method to get total number of persons\n",
        "    @classmethod\n",
        "    def total_persons(cls):\n",
        "        return cls.count\n",
        "\n",
        "\n",
        "# Usage\n",
        "p1 = Person(\"Alice\")\n",
        "p2 = Person(\"Bob\")\n",
        "p3 = Person(\"Charlie\")\n",
        "\n",
        "print(\"Total persons created:\", Person.total_persons())\n"
      ],
      "metadata": {
        "colab": {
          "base_uri": "https://localhost:8080/"
        },
        "id": "eiZhl7w80waF",
        "outputId": "a77d67d6-e13d-44dc-8520-d2833779fd92"
      },
      "execution_count": 15,
      "outputs": [
        {
          "output_type": "stream",
          "name": "stdout",
          "text": [
            "Total persons created: 3\n"
          ]
        }
      ]
    },
    {
      "cell_type": "code",
      "source": [
        "9 # Write a class Fraction with attributes numerator and denominator. Override the str method to display the\n",
        "#fraction as \"numerator/denominator\"?\n",
        "\n",
        "class Fraction:\n",
        "    def __init__(self, numerator, denominator):\n",
        "        self.numerator = numerator\n",
        "        self.denominator = denominator\n",
        "\n",
        "    # Override __str__ method\n",
        "    def __str__(self):\n",
        "        return f\"{self.numerator}/{self.denominator}\"\n",
        "\n",
        "\n",
        "# Usage\n",
        "f1 = Fraction(3, 4)\n",
        "f2 = Fraction(7, 2)\n",
        "\n",
        "print(f1)  # Calls __str__ → \"3/4\"\n",
        "print(f2)  # Calls __str__ → \"7/2\"\n"
      ],
      "metadata": {
        "colab": {
          "base_uri": "https://localhost:8080/"
        },
        "id": "GO6A2Go006-D",
        "outputId": "ce248bee-d4d5-4179-a913-04ac8d757fa3"
      },
      "execution_count": 16,
      "outputs": [
        {
          "output_type": "stream",
          "name": "stdout",
          "text": [
            "3/4\n",
            "7/2\n"
          ]
        }
      ]
    },
    {
      "cell_type": "code",
      "source": [
        "10. #Demonstrate operator overloading by creating a class Vector and overriding the add method to add two\n",
        "#vectors.\n",
        "\n",
        "class Vector:\n",
        "    def __init__(self, x, y):\n",
        "        self.x = x\n",
        "        self.y = y\n",
        "\n",
        "    # Override __add__ method\n",
        "    def __add__(self, other):\n",
        "        return Vector(self.x + other.x, self.y + other.y)\n",
        "\n",
        "    # Override __str__ for readable output\n",
        "    def __str__(self):\n",
        "        return f\"({self.x}, {self.y})\"\n",
        "\n",
        "\n",
        "# Usage\n",
        "v1 = Vector(2, 3)\n",
        "v2 = Vector(4, 5)\n",
        "\n",
        "v3 = v1 + v2  # Calls __add__\n",
        "\n",
        "print(\"v1 =\", v1)\n",
        "print(\"v2 =\", v2)\n",
        "print(\"v1 + v2 =\", v3)\n"
      ],
      "metadata": {
        "colab": {
          "base_uri": "https://localhost:8080/"
        },
        "id": "mdlmhSVJ1Fc9",
        "outputId": "f7f9f8a4-aa51-4e32-f2ef-a378b3f95512"
      },
      "execution_count": 17,
      "outputs": [
        {
          "output_type": "stream",
          "name": "stdout",
          "text": [
            "v1 = (2, 3)\n",
            "v2 = (4, 5)\n",
            "v1 + v2 = (6, 8)\n"
          ]
        }
      ]
    },
    {
      "cell_type": "code",
      "source": [
        "11. # Create a class Person with attributes name and age. Add a method greet() that prints \"Hello, my name is\n",
        "#{name} and I am {age} years old.\"?\n",
        "\n",
        "class Person:\n",
        "    def __init__(self, name, age):\n",
        "        self.name = name\n",
        "        self.age = age\n",
        "\n",
        "    def greet(self):\n",
        "        print(f\"Hello, my name is {self.name} and I am {self.age} years old.\")\n",
        "\n",
        "\n",
        "# Usage\n",
        "p1 = Person(\"Alice\", 25)\n",
        "p2 = Person(\"Bob\", 30)\n",
        "\n",
        "p1.greet()\n",
        "p2.greet()\n"
      ],
      "metadata": {
        "colab": {
          "base_uri": "https://localhost:8080/"
        },
        "id": "455cmFYt1SG9",
        "outputId": "6c54f0cb-a2a1-443c-b78d-79384201a684"
      },
      "execution_count": 18,
      "outputs": [
        {
          "output_type": "stream",
          "name": "stdout",
          "text": [
            "Hello, my name is Alice and I am 25 years old.\n",
            "Hello, my name is Bob and I am 30 years old.\n"
          ]
        }
      ]
    },
    {
      "cell_type": "code",
      "source": [
        "12. # Implement a class Student with attributes name and grades. Create a method average_grade() to compute\n",
        "#the average of the grades?\n",
        "\n",
        "class Student:\n",
        "    def __init__(self, name, grades):\n",
        "        self.name = name\n",
        "        self.grades = grades  # list of grades\n",
        "\n",
        "    def average_grade(self):\n",
        "        if len(self.grades) == 0:\n",
        "            return 0\n",
        "        return sum(self.grades) / len(self.grades)\n",
        "\n",
        "\n",
        "# Usage\n",
        "s1 = Student(\"Alice\", [85, 90, 78])\n",
        "s2 = Student(\"Bob\", [70, 65, 80, 75])\n",
        "\n",
        "print(f\"{s1.name}'s average grade: {s1.average_grade():.2f}\")\n",
        "print(f\"{s2.name}'s average grade: {s2.average_grade():.2f}\")\n"
      ],
      "metadata": {
        "colab": {
          "base_uri": "https://localhost:8080/"
        },
        "id": "47LEFfbK1eYt",
        "outputId": "9d0debe4-897d-40ae-ed0f-34a48b211607"
      },
      "execution_count": 19,
      "outputs": [
        {
          "output_type": "stream",
          "name": "stdout",
          "text": [
            "Alice's average grade: 84.33\n",
            "Bob's average grade: 72.50\n"
          ]
        }
      ]
    },
    {
      "cell_type": "code",
      "source": [
        "13. #Create a class Rectangle with methods set_dimensions() to set the dimensions and area() to calculate the\n",
        "#area?\n",
        "\n",
        "class Rectangle:\n",
        "    def __init__(self):\n",
        "        self.length = 0\n",
        "        self.width = 0\n",
        "\n",
        "    # Method to set dimensions\n",
        "    def set_dimensions(self, length, width):\n",
        "        self.length = length\n",
        "        self.width = width\n",
        "\n",
        "    # Method to calculate area\n",
        "    def area(self):\n",
        "        return self.length * self.width\n",
        "\n",
        "\n",
        "# Usage\n",
        "rect = Rectangle()\n",
        "rect.set_dimensions(10, 5)\n",
        "\n",
        "print(\"Length:\", rect.length)\n",
        "print(\"Width:\", rect.width)\n",
        "print(\"Area of rectangle:\", rect.area())\n"
      ],
      "metadata": {
        "colab": {
          "base_uri": "https://localhost:8080/"
        },
        "id": "OXbVHtmS1ogr",
        "outputId": "9b8d54af-ea82-42b9-efe7-1fa8e8fba307"
      },
      "execution_count": 20,
      "outputs": [
        {
          "output_type": "stream",
          "name": "stdout",
          "text": [
            "Length: 10\n",
            "Width: 5\n",
            "Area of rectangle: 50\n"
          ]
        }
      ]
    },
    {
      "cell_type": "code",
      "source": [
        "14. # Create a class Employee with a method calculate_salary() that computes the salary based on hours worked\n",
        "#and hourly rate. Create a derived class Manager that adds a bonus to the salary?\n",
        "\n",
        "# Base class\n",
        "class Employee:\n",
        "    def __init__(self, name, hours_worked, hourly_rate):\n",
        "        self.name = name\n",
        "        self.hours_worked = hours_worked\n",
        "        self.hourly_rate = hourly_rate\n",
        "\n",
        "    def calculate_salary(self):\n",
        "        return self.hours_worked * self.hourly_rate\n",
        "\n",
        "\n",
        "# Derived class\n",
        "class Manager(Employee):\n",
        "    def __init__(self, name, hours_worked, hourly_rate, bonus):\n",
        "        super().__init__(name, hours_worked, hourly_rate)\n",
        "        self.bonus = bonus\n",
        "\n",
        "    def calculate_salary(self):\n",
        "        base_salary = super().calculate_salary()\n",
        "        return base_salary + self.bonus\n",
        "\n",
        "\n",
        "# Usage\n",
        "emp = Employee(\"Alice\", 40, 20)   # 40 hrs, $20/hr\n",
        "mgr = Manager(\"Bob\", 40, 30, 500) # 40 hrs, $30/hr + bonus\n",
        "\n",
        "print(f\"{emp.name}'s Salary: ${emp.calculate_salary()}\")\n",
        "print(f\"{mgr.name}'s Salary (with bonus): ${mgr.calculate_salary()}\")\n"
      ],
      "metadata": {
        "colab": {
          "base_uri": "https://localhost:8080/"
        },
        "id": "PrERQMWU1yhz",
        "outputId": "c4602df2-6d94-4d6e-c963-d24dde061146"
      },
      "execution_count": 21,
      "outputs": [
        {
          "output_type": "stream",
          "name": "stdout",
          "text": [
            "Alice's Salary: $800\n",
            "Bob's Salary (with bonus): $1700\n"
          ]
        }
      ]
    },
    {
      "cell_type": "code",
      "source": [
        "15. #Create a class Product with attributes name, price, and quantity. Implement a method total_price() that\n",
        "#calculates the total price of the product?\n",
        "\n",
        "class Product:\n",
        "    def __init__(self, name, price, quantity):\n",
        "        self.name = name\n",
        "        self.price = price\n",
        "        self.quantity = quantity\n",
        "\n",
        "    # Method to calculate total price\n",
        "    def total_price(self):\n",
        "        return self.price * self.quantity\n",
        "\n",
        "\n",
        "# Usage\n",
        "p1 = Product(\"Laptop\", 50000, 2)\n",
        "p2 = Product(\"Phone\", 20000, 3)\n",
        "\n",
        "print(f\"{p1.name} Total Price: ₹{p1.total_price()}\")\n",
        "print(f\"{p2.name} Total Price: ₹{p2.total_price()}\")\n"
      ],
      "metadata": {
        "colab": {
          "base_uri": "https://localhost:8080/"
        },
        "id": "NeZyz3_E2AOy",
        "outputId": "9317ceb6-8b40-4348-e1ab-2c41451e7f93"
      },
      "execution_count": 22,
      "outputs": [
        {
          "output_type": "stream",
          "name": "stdout",
          "text": [
            "Laptop Total Price: ₹100000\n",
            "Phone Total Price: ₹60000\n"
          ]
        }
      ]
    },
    {
      "cell_type": "code",
      "source": [
        "16. # Create a class Animal with an abstract method sound(). Create two derived classes Cow and Sheep that\n",
        "#implement the sound() method?\n",
        "\n",
        "from abc import ABC, abstractmethod\n",
        "\n",
        "# Abstract base class\n",
        "class Animal(ABC):\n",
        "    @abstractmethod\n",
        "    def sound(self):\n",
        "        pass\n",
        "\n",
        "\n",
        "# Derived class Cow\n",
        "class Cow(Animal):\n",
        "    def sound(self):\n",
        "        return \"Moo\"\n",
        "\n",
        "\n",
        "# Derived class Sheep\n",
        "class Sheep(Animal):\n",
        "    def sound(self):\n",
        "        return \"Baa\"\n",
        "\n",
        "\n",
        "# Usage\n",
        "animals = [Cow(), Sheep()]\n",
        "\n",
        "for animal in animals:\n",
        "    print(f\"{animal.__class__.__name__} sound: {animal.sound()}\")\n"
      ],
      "metadata": {
        "colab": {
          "base_uri": "https://localhost:8080/"
        },
        "id": "14hUPNM12LxS",
        "outputId": "43ac3b15-a5a3-44c2-988c-6d7ca7e8d15f"
      },
      "execution_count": 23,
      "outputs": [
        {
          "output_type": "stream",
          "name": "stdout",
          "text": [
            "Cow sound: Moo\n",
            "Sheep sound: Baa\n"
          ]
        }
      ]
    },
    {
      "cell_type": "code",
      "source": [
        "17. # Create a class Book with attributes title, author, and year_published. Add a method get_book_info() that\n",
        "#returns a formatted string with the book's details?\n",
        "\n",
        "class Book:\n",
        "    def __init__(self, title, author, year_published):\n",
        "        self.title = title\n",
        "        self.author = author\n",
        "        self.year_published = year_published\n",
        "\n",
        "    # Method to return book details\n",
        "    def get_book_info(self):\n",
        "        return f\"'{self.title}' by {self.author}, published in {self.year_published}\"\n",
        "\n",
        "\n",
        "# Usage\n",
        "book1 = Book(\"To Kill a Mockingbird\", \"Harper Lee\", 1960)\n",
        "book2 = Book(\"1984\", \"George Orwell\", 1949)\n",
        "\n",
        "print(book1.get_book_info())\n",
        "print(book2.get_book_info())\n"
      ],
      "metadata": {
        "colab": {
          "base_uri": "https://localhost:8080/"
        },
        "id": "Spaw7hEW2XzI",
        "outputId": "96658b00-5787-4975-d4f1-7c2b011e1a9b"
      },
      "execution_count": 24,
      "outputs": [
        {
          "output_type": "stream",
          "name": "stdout",
          "text": [
            "'To Kill a Mockingbird' by Harper Lee, published in 1960\n",
            "'1984' by George Orwell, published in 1949\n"
          ]
        }
      ]
    },
    {
      "cell_type": "code",
      "source": [
        "18. # Create a class House with attributes address and price. Create a derived class Mansion that adds an\n",
        "#attribute number_of_rooms?\n",
        "\n",
        "# Base class\n",
        "class House:\n",
        "    def __init__(self, address, price):\n",
        "        self.address = address\n",
        "        self.price = price\n",
        "\n",
        "    def get_info(self):\n",
        "        return f\"House located at {self.address}, priced at ₹{self.price}\"\n",
        "\n",
        "\n",
        "# Derived class\n",
        "class Mansion(House):\n",
        "    def __init__(self, address, price, number_of_rooms):\n",
        "        super().__init__(address, price)  # Call parent constructor\n",
        "        self.number_of_rooms = number_of_rooms\n",
        "\n",
        "    def get_info(self):\n",
        "        return f\"Mansion located at {self.address}, priced at ₹{self.price}, with {self.number_of_rooms} rooms\"\n",
        "\n",
        "\n",
        "# Usage\n",
        "h1 = House(\"123 Green Street\", 5000000)\n",
        "m1 = Mansion(\"456 Luxury Avenue\", 20000000, 12)\n",
        "\n",
        "print(h1.get_info())\n",
        "print(m1.get_info())\n"
      ],
      "metadata": {
        "colab": {
          "base_uri": "https://localhost:8080/"
        },
        "id": "9uRE6wGf2jVg",
        "outputId": "4239cae3-9584-4dae-de77-e84b0351f554"
      },
      "execution_count": 25,
      "outputs": [
        {
          "output_type": "stream",
          "name": "stdout",
          "text": [
            "House located at 123 Green Street, priced at ₹5000000\n",
            "Mansion located at 456 Luxury Avenue, priced at ₹20000000, with 12 rooms\n"
          ]
        }
      ]
    }
  ]
}